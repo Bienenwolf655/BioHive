{
 "cells": [
  {
   "cell_type": "code",
   "execution_count": 1,
   "id": "76536900-e156-4feb-8228-91843c2a20be",
   "metadata": {},
   "outputs": [],
   "source": [
    "import pandas as pd\n",
    "from argparse import ArgumentParser\n",
    "from tqdm import tqdm\n",
    "import pickle\n",
    "import torch\n",
    "from transformers import GPT2LMHeadModel, GPT2Tokenizer, AutoTokenizer\n",
    "import random\n",
    "from selenium import webdriver\n",
    "from selenium.webdriver.common.by import By\n",
    "import os\n",
    "import time\n",
    "from tqdm import tqdm\n",
    "from selenium.webdriver.firefox.options import Options\n",
    "from Bio import SeqIO\n",
    "import blast\n",
    "import multiprocessing\n",
    "import glob, os\n",
    "import statistics\n",
    "from selenium.webdriver.firefox.options import Options\n",
    "from Bio import SeqIO"
   ]
  },
  {
   "cell_type": "code",
   "execution_count": 3,
   "id": "76c66615-315e-4e73-ae0e-1c483b972806",
   "metadata": {},
   "outputs": [],
   "source": [
    "fasta = open(\"\") # select your input fasta"
   ]
  },
  {
   "cell_type": "code",
   "execution_count": null,
   "id": "d2e161d2-b5da-4d84-b2f7-00276f187e8b",
   "metadata": {},
   "outputs": [],
   "source": [
    "input = {[\">\"+record.id+\"\\n\"]:str(record.seq)+\"\\n\" for record in SeqIO.parse(fasta, \"fasta\")}"
   ]
  },
  {
   "cell_type": "code",
   "execution_count": 5,
   "id": "0c4026ff-5488-4ff1-b5ab-b6c9efcb468f",
   "metadata": {},
   "outputs": [],
   "source": [
    "splits = 128 # defines how many subprocesses are sending requests to blast\n",
    "splited_fasta = blast.split([k+v for k,v in list(input.items())], splits)\n",
    "splited_fasta = [i for i in splited_fasta]"
   ]
  },
  {
   "cell_type": "code",
   "execution_count": 16,
   "id": "77371d15-608f-481e-91e7-d4fe680e64bf",
   "metadata": {
    "tags": []
   },
   "outputs": [],
   "source": [
    "# if rest run this after creating the done list\n",
    "rest = [i for item in splited_fasta for i in item if not i.startswith(tuple(done),2)]\n",
    "splited_fasta = split(rest, 12)\n",
    "splited_fasta = [i for i in splited_fasta]"
   ]
  },
  {
   "cell_type": "code",
   "execution_count": 7,
   "id": "31cc3fa3-b46e-4685-9fad-0ece3e52ccc4",
   "metadata": {
    "collapsed": true,
    "jupyter": {
     "outputs_hidden": true
    },
    "tags": []
   },
   "outputs": [
    {
     "name": "stderr",
     "output_type": "stream",
     "text": [
      " 23%|█████████▊                                | 30/128 [10:00<32:42, 20.03s/it]"
     ]
    },
    {
     "name": "stdout",
     "output_type": "stream",
     "text": [
      "Finished Blast and Download\n"
     ]
    },
    {
     "name": "stderr",
     "output_type": "stream",
     "text": [
      " 25%|██████████▌                               | 32/128 [10:40<32:02, 20.03s/it]"
     ]
    },
    {
     "name": "stdout",
     "output_type": "stream",
     "text": [
      "Finished Blast and Download\n",
      "Finished Blast and Download\n"
     ]
    },
    {
     "name": "stderr",
     "output_type": "stream",
     "text": [
      " 26%|██████████▊                               | 33/128 [11:00<31:42, 20.03s/it]"
     ]
    },
    {
     "name": "stdout",
     "output_type": "stream",
     "text": [
      "Finished Blast and Download\n"
     ]
    },
    {
     "name": "stderr",
     "output_type": "stream",
     "text": [
      " 27%|███████████▏                              | 34/128 [11:20<31:24, 20.04s/it]"
     ]
    },
    {
     "name": "stdout",
     "output_type": "stream",
     "text": [
      "Finished Blast and Download\n"
     ]
    },
    {
     "name": "stderr",
     "output_type": "stream",
     "text": [
      " 27%|███████████▍                              | 35/128 [11:40<31:03, 20.04s/it]"
     ]
    },
    {
     "name": "stdout",
     "output_type": "stream",
     "text": [
      "Finished Blast and Download\n"
     ]
    },
    {
     "name": "stderr",
     "output_type": "stream",
     "text": [
      " 28%|███████████▊                              | 36/128 [12:01<30:43, 20.04s/it]"
     ]
    },
    {
     "name": "stdout",
     "output_type": "stream",
     "text": [
      "Finished Blast and Download\n",
      "Finished Blast and Download\n"
     ]
    },
    {
     "name": "stderr",
     "output_type": "stream",
     "text": [
      " 30%|████████████▍                             | 38/128 [12:41<30:02, 20.03s/it]"
     ]
    },
    {
     "name": "stdout",
     "output_type": "stream",
     "text": [
      "Finished Blast and Download\n"
     ]
    },
    {
     "name": "stderr",
     "output_type": "stream",
     "text": [
      " 30%|████████████▊                             | 39/128 [13:01<29:42, 20.03s/it]"
     ]
    },
    {
     "name": "stdout",
     "output_type": "stream",
     "text": [
      "Finished Blast and Download\n"
     ]
    },
    {
     "name": "stderr",
     "output_type": "stream",
     "text": [
      " 31%|█████████████▏                            | 40/128 [13:21<29:22, 20.03s/it]"
     ]
    },
    {
     "name": "stdout",
     "output_type": "stream",
     "text": [
      "Finished Blast and Download\n"
     ]
    },
    {
     "name": "stderr",
     "output_type": "stream",
     "text": [
      " 32%|█████████████▍                            | 41/128 [13:41<29:02, 20.03s/it]"
     ]
    },
    {
     "name": "stdout",
     "output_type": "stream",
     "text": [
      "Finished Blast and Download\n"
     ]
    },
    {
     "name": "stderr",
     "output_type": "stream",
     "text": [
      " 34%|██████████████                            | 43/128 [14:21<28:22, 20.03s/it]"
     ]
    },
    {
     "name": "stdout",
     "output_type": "stream",
     "text": [
      "Finished Blast and Download\n"
     ]
    },
    {
     "name": "stderr",
     "output_type": "stream",
     "text": [
      " 34%|██████████████▍                           | 44/128 [14:41<28:02, 20.03s/it]"
     ]
    },
    {
     "name": "stdout",
     "output_type": "stream",
     "text": [
      "Finished Blast and Download\n",
      "Finished Blast and Download\n"
     ]
    },
    {
     "name": "stderr",
     "output_type": "stream",
     "text": [
      " 35%|██████████████▊                           | 45/128 [15:01<27:42, 20.03s/it]"
     ]
    },
    {
     "name": "stdout",
     "output_type": "stream",
     "text": [
      "Finished Blast and Download\n"
     ]
    },
    {
     "name": "stderr",
     "output_type": "stream",
     "text": [
      " 37%|███████████████▍                          | 47/128 [15:41<27:02, 20.03s/it]"
     ]
    },
    {
     "name": "stdout",
     "output_type": "stream",
     "text": [
      "Finished Blast and Download\n"
     ]
    },
    {
     "name": "stderr",
     "output_type": "stream",
     "text": [
      " 38%|███████████████▊                          | 48/128 [16:01<26:42, 20.03s/it]"
     ]
    },
    {
     "name": "stdout",
     "output_type": "stream",
     "text": [
      "Finished Blast and Download\n",
      "Finished Blast and Download\n"
     ]
    },
    {
     "name": "stderr",
     "output_type": "stream",
     "text": [
      " 38%|████████████████                          | 49/128 [16:21<26:22, 20.03s/it]"
     ]
    },
    {
     "name": "stdout",
     "output_type": "stream",
     "text": [
      "Finished Blast and Download\n"
     ]
    },
    {
     "name": "stderr",
     "output_type": "stream",
     "text": [
      " 41%|█████████████████                         | 52/128 [17:21<25:22, 20.03s/it]"
     ]
    },
    {
     "name": "stdout",
     "output_type": "stream",
     "text": [
      "Finished Blast and Download\n"
     ]
    },
    {
     "name": "stderr",
     "output_type": "stream",
     "text": [
      " 41%|█████████████████▍                        | 53/128 [17:41<25:02, 20.03s/it]"
     ]
    },
    {
     "name": "stdout",
     "output_type": "stream",
     "text": [
      "Finished Blast and Download\n",
      "Finished Blast and Download\n"
     ]
    },
    {
     "name": "stderr",
     "output_type": "stream",
     "text": [
      " 42%|█████████████████▋                        | 54/128 [18:01<24:42, 20.03s/it]"
     ]
    },
    {
     "name": "stdout",
     "output_type": "stream",
     "text": [
      "Finished Blast and Download\n"
     ]
    },
    {
     "name": "stderr",
     "output_type": "stream",
     "text": [
      " 43%|██████████████████                        | 55/128 [18:21<24:22, 20.03s/it]"
     ]
    },
    {
     "name": "stdout",
     "output_type": "stream",
     "text": [
      "Finished Blast and Download\n"
     ]
    },
    {
     "name": "stderr",
     "output_type": "stream",
     "text": [
      " 44%|██████████████████▍                       | 56/128 [18:41<24:02, 20.03s/it]"
     ]
    },
    {
     "name": "stdout",
     "output_type": "stream",
     "text": [
      "Finished Blast and Download\n"
     ]
    },
    {
     "name": "stderr",
     "output_type": "stream",
     "text": [
      " 45%|██████████████████▋                       | 57/128 [19:01<23:41, 20.03s/it]"
     ]
    },
    {
     "name": "stdout",
     "output_type": "stream",
     "text": [
      "Finished Blast and Download\n",
      "Finished Blast and Download\n"
     ]
    },
    {
     "name": "stderr",
     "output_type": "stream",
     "text": [
      " 45%|███████████████████                       | 58/128 [19:21<23:21, 20.03s/it]"
     ]
    },
    {
     "name": "stdout",
     "output_type": "stream",
     "text": [
      "Finished Blast and Download\n"
     ]
    },
    {
     "name": "stderr",
     "output_type": "stream",
     "text": [
      " 46%|███████████████████▎                      | 59/128 [19:41<23:01, 20.03s/it]"
     ]
    },
    {
     "name": "stdout",
     "output_type": "stream",
     "text": [
      "Finished Blast and Download\n"
     ]
    },
    {
     "name": "stderr",
     "output_type": "stream",
     "text": [
      " 47%|███████████████████▋                      | 60/128 [20:01<22:41, 20.03s/it]"
     ]
    },
    {
     "name": "stdout",
     "output_type": "stream",
     "text": [
      "Finished Blast and Download\n"
     ]
    },
    {
     "name": "stderr",
     "output_type": "stream",
     "text": [
      " 48%|████████████████████                      | 61/128 [20:21<22:21, 20.03s/it]"
     ]
    },
    {
     "name": "stdout",
     "output_type": "stream",
     "text": [
      "Finished Blast and Download\n"
     ]
    },
    {
     "name": "stderr",
     "output_type": "stream",
     "text": [
      " 48%|████████████████████▎                     | 62/128 [20:41<22:01, 20.03s/it]"
     ]
    },
    {
     "name": "stdout",
     "output_type": "stream",
     "text": [
      "Finished Blast and Download\n"
     ]
    },
    {
     "name": "stderr",
     "output_type": "stream",
     "text": [
      " 49%|████████████████████▋                     | 63/128 [21:01<21:41, 20.03s/it]"
     ]
    },
    {
     "name": "stdout",
     "output_type": "stream",
     "text": [
      "Finished Blast and Download\n"
     ]
    },
    {
     "name": "stderr",
     "output_type": "stream",
     "text": [
      " 50%|█████████████████████                     | 64/128 [21:21<21:21, 20.03s/it]"
     ]
    },
    {
     "name": "stdout",
     "output_type": "stream",
     "text": [
      "Finished Blast and Download\n"
     ]
    },
    {
     "name": "stderr",
     "output_type": "stream",
     "text": [
      " 51%|█████████████████████▎                    | 65/128 [21:41<21:01, 20.03s/it]"
     ]
    },
    {
     "name": "stdout",
     "output_type": "stream",
     "text": [
      "Finished Blast and Download\n"
     ]
    },
    {
     "name": "stderr",
     "output_type": "stream",
     "text": [
      " 52%|█████████████████████▋                    | 66/128 [22:01<20:41, 20.03s/it]"
     ]
    },
    {
     "name": "stdout",
     "output_type": "stream",
     "text": [
      "Finished Blast and Download\n"
     ]
    },
    {
     "name": "stderr",
     "output_type": "stream",
     "text": [
      " 52%|█████████████████████▉                    | 67/128 [22:21<20:21, 20.03s/it]"
     ]
    },
    {
     "name": "stdout",
     "output_type": "stream",
     "text": [
      "Finished Blast and Download\n"
     ]
    },
    {
     "name": "stderr",
     "output_type": "stream",
     "text": [
      " 53%|██████████████████████▎                   | 68/128 [22:41<20:01, 20.03s/it]"
     ]
    },
    {
     "name": "stdout",
     "output_type": "stream",
     "text": [
      "Finished Blast and Download\n"
     ]
    },
    {
     "name": "stderr",
     "output_type": "stream",
     "text": [
      " 54%|██████████████████████▋                   | 69/128 [23:01<19:41, 20.03s/it]"
     ]
    },
    {
     "name": "stdout",
     "output_type": "stream",
     "text": [
      "Finished Blast and Download\n"
     ]
    },
    {
     "name": "stderr",
     "output_type": "stream",
     "text": [
      " 55%|██████████████████████▉                   | 70/128 [23:21<19:21, 20.03s/it]"
     ]
    },
    {
     "name": "stdout",
     "output_type": "stream",
     "text": [
      "Finished Blast and Download\n"
     ]
    },
    {
     "name": "stderr",
     "output_type": "stream",
     "text": [
      " 56%|███████████████████████▋                  | 72/128 [24:02<18:41, 20.03s/it]"
     ]
    },
    {
     "name": "stdout",
     "output_type": "stream",
     "text": [
      "Finished Blast and Download\n"
     ]
    },
    {
     "name": "stderr",
     "output_type": "stream",
     "text": [
      " 57%|███████████████████████▉                  | 73/128 [24:22<18:21, 20.03s/it]"
     ]
    },
    {
     "name": "stdout",
     "output_type": "stream",
     "text": [
      "Finished Blast and Download\n",
      "Finished Blast and Download\n"
     ]
    },
    {
     "name": "stderr",
     "output_type": "stream",
     "text": [
      " 59%|████████████████████████▌                 | 75/128 [25:02<17:41, 20.03s/it]"
     ]
    },
    {
     "name": "stdout",
     "output_type": "stream",
     "text": [
      "Finished Blast and Download\n"
     ]
    },
    {
     "name": "stderr",
     "output_type": "stream",
     "text": [
      " 59%|████████████████████████▉                 | 76/128 [25:22<17:21, 20.03s/it]"
     ]
    },
    {
     "name": "stdout",
     "output_type": "stream",
     "text": [
      "Finished Blast and Download\n",
      "Finished Blast and Download\n"
     ]
    },
    {
     "name": "stderr",
     "output_type": "stream",
     "text": [
      " 60%|█████████████████████████▎                | 77/128 [25:42<17:01, 20.03s/it]"
     ]
    },
    {
     "name": "stdout",
     "output_type": "stream",
     "text": [
      "Finished Blast and Download\n",
      "Finished Blast and Download\n"
     ]
    },
    {
     "name": "stderr",
     "output_type": "stream",
     "text": [
      " 61%|█████████████████████████▌                | 78/128 [26:02<16:41, 20.03s/it]Process Process-75:\n",
      "Traceback (most recent call last):\n",
      "  File \"/home/user/anaconda3/lib/python3.8/multiprocessing/process.py\", line 315, in _bootstrap\n",
      "    self.run()\n",
      "  File \"/home/user/anaconda3/lib/python3.8/multiprocessing/process.py\", line 108, in run\n",
      "    self._target(*self._args, **self._kwargs)\n",
      "  File \"/home/user/Projects/zymCTRL/blast.py\", line 34, in blast\n",
      "    driver.find_element(\"link text\", \"Text\").click()\n",
      "  File \"/home/user/anaconda3/lib/python3.8/site-packages/selenium/webdriver/remote/webdriver.py\", line 855, in find_element\n",
      "    return self.execute(Command.FIND_ELEMENT, {\n",
      "  File \"/home/user/anaconda3/lib/python3.8/site-packages/selenium/webdriver/remote/webdriver.py\", line 428, in execute\n",
      "    self.error_handler.check_response(response)\n",
      "  File \"/home/user/anaconda3/lib/python3.8/site-packages/selenium/webdriver/remote/errorhandler.py\", line 243, in check_response\n",
      "    raise exception_class(message, screen, stacktrace)\n",
      "selenium.common.exceptions.NoSuchElementException: Message: Unable to locate element: Text\n",
      "Stacktrace:\n",
      "RemoteError@chrome://remote/content/shared/RemoteError.sys.mjs:8:8\n",
      "WebDriverError@chrome://remote/content/shared/webdriver/Errors.sys.mjs:182:5\n",
      "NoSuchElementError@chrome://remote/content/shared/webdriver/Errors.sys.mjs:394:5\n",
      "element.find/</<@chrome://remote/content/marionette/element.sys.mjs:280:16\n",
      "\n",
      " 62%|█████████████████████████▉                | 79/128 [26:22<16:21, 20.03s/it]"
     ]
    },
    {
     "name": "stdout",
     "output_type": "stream",
     "text": [
      "Finished Blast and Download\n"
     ]
    },
    {
     "name": "stderr",
     "output_type": "stream",
     "text": [
      " 62%|██████████████████████████▎               | 80/128 [26:42<16:01, 20.03s/it]"
     ]
    },
    {
     "name": "stdout",
     "output_type": "stream",
     "text": [
      "Finished Blast and Download\n",
      "Finished Blast and Download\n"
     ]
    },
    {
     "name": "stderr",
     "output_type": "stream",
     "text": [
      " 63%|██████████████████████████▌               | 81/128 [27:02<15:41, 20.03s/it]Process Process-77:\n",
      "Traceback (most recent call last):\n",
      "  File \"/home/user/anaconda3/lib/python3.8/multiprocessing/process.py\", line 315, in _bootstrap\n",
      "    self.run()\n",
      "  File \"/home/user/anaconda3/lib/python3.8/multiprocessing/process.py\", line 108, in run\n",
      "    self._target(*self._args, **self._kwargs)\n",
      "  File \"/home/user/Projects/zymCTRL/blast.py\", line 34, in blast\n",
      "    driver.find_element(\"link text\", \"Text\").click()\n",
      "  File \"/home/user/anaconda3/lib/python3.8/site-packages/selenium/webdriver/remote/webdriver.py\", line 855, in find_element\n",
      "    return self.execute(Command.FIND_ELEMENT, {\n",
      "  File \"/home/user/anaconda3/lib/python3.8/site-packages/selenium/webdriver/remote/webdriver.py\", line 428, in execute\n",
      "    self.error_handler.check_response(response)\n",
      "  File \"/home/user/anaconda3/lib/python3.8/site-packages/selenium/webdriver/remote/errorhandler.py\", line 243, in check_response\n",
      "    raise exception_class(message, screen, stacktrace)\n",
      "selenium.common.exceptions.NoSuchElementException: Message: Unable to locate element: Text\n",
      "Stacktrace:\n",
      "RemoteError@chrome://remote/content/shared/RemoteError.sys.mjs:8:8\n",
      "WebDriverError@chrome://remote/content/shared/webdriver/Errors.sys.mjs:182:5\n",
      "NoSuchElementError@chrome://remote/content/shared/webdriver/Errors.sys.mjs:394:5\n",
      "element.find/</<@chrome://remote/content/marionette/element.sys.mjs:280:16\n",
      "\n"
     ]
    },
    {
     "name": "stdout",
     "output_type": "stream",
     "text": [
      "Finished Blast and Download\n"
     ]
    },
    {
     "name": "stderr",
     "output_type": "stream",
     "text": [
      " 65%|███████████████████████████▏              | 83/128 [27:42<15:01, 20.03s/it]"
     ]
    },
    {
     "name": "stdout",
     "output_type": "stream",
     "text": [
      "Finished Blast and Download\n"
     ]
    },
    {
     "name": "stderr",
     "output_type": "stream",
     "text": [
      " 66%|███████████████████████████▌              | 84/128 [28:02<14:41, 20.03s/it]"
     ]
    },
    {
     "name": "stdout",
     "output_type": "stream",
     "text": [
      "Finished Blast and Download\n"
     ]
    },
    {
     "name": "stderr",
     "output_type": "stream",
     "text": [
      " 66%|███████████████████████████▉              | 85/128 [28:22<14:21, 20.03s/it]"
     ]
    },
    {
     "name": "stdout",
     "output_type": "stream",
     "text": [
      "Finished Blast and Download\n"
     ]
    },
    {
     "name": "stderr",
     "output_type": "stream",
     "text": [
      " 67%|████████████████████████████▏             | 86/128 [28:42<14:01, 20.03s/it]"
     ]
    },
    {
     "name": "stdout",
     "output_type": "stream",
     "text": [
      "Finished Blast and Download\n",
      "Finished Blast and Download\n"
     ]
    },
    {
     "name": "stderr",
     "output_type": "stream",
     "text": [
      " 70%|█████████████████████████████▏            | 89/128 [29:42<13:01, 20.03s/it]"
     ]
    },
    {
     "name": "stdout",
     "output_type": "stream",
     "text": [
      "Finished Blast and Download\n"
     ]
    },
    {
     "name": "stderr",
     "output_type": "stream",
     "text": [
      " 70%|█████████████████████████████▌            | 90/128 [30:02<12:41, 20.03s/it]"
     ]
    },
    {
     "name": "stdout",
     "output_type": "stream",
     "text": [
      "Finished Blast and Download\n",
      "Finished Blast and Download\n"
     ]
    },
    {
     "name": "stderr",
     "output_type": "stream",
     "text": [
      " 71%|█████████████████████████████▊            | 91/128 [30:22<12:21, 20.03s/it]"
     ]
    },
    {
     "name": "stdout",
     "output_type": "stream",
     "text": [
      "Finished Blast and Download\n"
     ]
    },
    {
     "name": "stderr",
     "output_type": "stream",
     "text": [
      " 72%|██████████████████████████████▏           | 92/128 [30:42<12:01, 20.03s/it]"
     ]
    },
    {
     "name": "stdout",
     "output_type": "stream",
     "text": [
      "Finished Blast and Download\n"
     ]
    },
    {
     "name": "stderr",
     "output_type": "stream",
     "text": [
      " 73%|██████████████████████████████▌           | 93/128 [31:02<11:40, 20.03s/it]"
     ]
    },
    {
     "name": "stdout",
     "output_type": "stream",
     "text": [
      "Finished Blast and Download\n"
     ]
    },
    {
     "name": "stderr",
     "output_type": "stream",
     "text": [
      " 73%|██████████████████████████████▊           | 94/128 [31:22<11:20, 20.03s/it]"
     ]
    },
    {
     "name": "stdout",
     "output_type": "stream",
     "text": [
      "Finished Blast and Download\n",
      "Finished Blast and Download\n"
     ]
    },
    {
     "name": "stderr",
     "output_type": "stream",
     "text": [
      " 74%|███████████████████████████████▏          | 95/128 [31:42<11:00, 20.03s/it]"
     ]
    },
    {
     "name": "stdout",
     "output_type": "stream",
     "text": [
      "Finished Blast and Download\n"
     ]
    },
    {
     "name": "stderr",
     "output_type": "stream",
     "text": [
      " 76%|███████████████████████████████▊          | 97/128 [32:22<10:20, 20.03s/it]"
     ]
    },
    {
     "name": "stdout",
     "output_type": "stream",
     "text": [
      "Finished Blast and Download\n"
     ]
    },
    {
     "name": "stderr",
     "output_type": "stream",
     "text": [
      " 77%|████████████████████████████████▏         | 98/128 [32:42<10:01, 20.04s/it]"
     ]
    },
    {
     "name": "stdout",
     "output_type": "stream",
     "text": [
      "Finished Blast and Download\n"
     ]
    },
    {
     "name": "stderr",
     "output_type": "stream",
     "text": [
      " 79%|████████████████████████████████▎        | 101/128 [33:42<09:00, 20.03s/it]"
     ]
    },
    {
     "name": "stdout",
     "output_type": "stream",
     "text": [
      "Finished Blast and Download\n"
     ]
    },
    {
     "name": "stderr",
     "output_type": "stream",
     "text": [
      " 80%|████████████████████████████████▋        | 102/128 [34:02<08:40, 20.03s/it]"
     ]
    },
    {
     "name": "stdout",
     "output_type": "stream",
     "text": [
      "Finished Blast and Download\n"
     ]
    },
    {
     "name": "stderr",
     "output_type": "stream",
     "text": [
      " 80%|████████████████████████████████▉        | 103/128 [34:22<08:20, 20.03s/it]"
     ]
    },
    {
     "name": "stdout",
     "output_type": "stream",
     "text": [
      "Finished Blast and Download\n"
     ]
    },
    {
     "name": "stderr",
     "output_type": "stream",
     "text": [
      " 82%|█████████████████████████████████▋       | 105/128 [35:02<07:40, 20.03s/it]"
     ]
    },
    {
     "name": "stdout",
     "output_type": "stream",
     "text": [
      "Finished Blast and Download\n"
     ]
    },
    {
     "name": "stderr",
     "output_type": "stream",
     "text": [
      " 83%|█████████████████████████████████▉       | 106/128 [35:23<07:20, 20.03s/it]"
     ]
    },
    {
     "name": "stdout",
     "output_type": "stream",
     "text": [
      "Finished Blast and Download\n"
     ]
    },
    {
     "name": "stderr",
     "output_type": "stream",
     "text": [
      " 84%|██████████████████████████████████▎      | 107/128 [35:43<07:00, 20.03s/it]"
     ]
    },
    {
     "name": "stdout",
     "output_type": "stream",
     "text": [
      "Finished Blast and Download\n"
     ]
    },
    {
     "name": "stderr",
     "output_type": "stream",
     "text": [
      " 85%|██████████████████████████████████▉      | 109/128 [36:23<06:20, 20.03s/it]"
     ]
    },
    {
     "name": "stdout",
     "output_type": "stream",
     "text": [
      "Finished Blast and Download\n"
     ]
    },
    {
     "name": "stderr",
     "output_type": "stream",
     "text": [
      " 86%|███████████████████████████████████▏     | 110/128 [36:43<06:00, 20.03s/it]"
     ]
    },
    {
     "name": "stdout",
     "output_type": "stream",
     "text": [
      "Finished Blast and Download\n"
     ]
    },
    {
     "name": "stderr",
     "output_type": "stream",
     "text": [
      " 87%|███████████████████████████████████▌     | 111/128 [37:03<05:40, 20.03s/it]"
     ]
    },
    {
     "name": "stdout",
     "output_type": "stream",
     "text": [
      "Finished Blast and Download\n",
      "Finished Blast and Download\n"
     ]
    },
    {
     "name": "stderr",
     "output_type": "stream",
     "text": [
      " 88%|███████████████████████████████████▉     | 112/128 [37:23<05:20, 20.03s/it]"
     ]
    },
    {
     "name": "stdout",
     "output_type": "stream",
     "text": [
      "Finished Blast and Download\n",
      "Finished Blast and Download\n"
     ]
    },
    {
     "name": "stderr",
     "output_type": "stream",
     "text": [
      " 88%|████████████████████████████████████▏    | 113/128 [37:43<05:00, 20.03s/it]"
     ]
    },
    {
     "name": "stdout",
     "output_type": "stream",
     "text": [
      "Finished Blast and Download\n"
     ]
    },
    {
     "name": "stderr",
     "output_type": "stream",
     "text": [
      " 90%|████████████████████████████████████▊    | 115/128 [38:23<04:20, 20.03s/it]"
     ]
    },
    {
     "name": "stdout",
     "output_type": "stream",
     "text": [
      "Finished Blast and Download\n"
     ]
    },
    {
     "name": "stderr",
     "output_type": "stream",
     "text": [
      " 91%|█████████████████████████████████████▍   | 117/128 [39:03<03:40, 20.03s/it]"
     ]
    },
    {
     "name": "stdout",
     "output_type": "stream",
     "text": [
      "Finished Blast and Download\n"
     ]
    },
    {
     "name": "stderr",
     "output_type": "stream",
     "text": [
      " 93%|██████████████████████████████████████   | 119/128 [39:43<03:00, 20.03s/it]"
     ]
    },
    {
     "name": "stdout",
     "output_type": "stream",
     "text": [
      "Finished Blast and Download\n",
      "Finished Blast and Download\n"
     ]
    },
    {
     "name": "stderr",
     "output_type": "stream",
     "text": [
      " 94%|██████████████████████████████████████▍  | 120/128 [40:03<02:40, 20.03s/it]"
     ]
    },
    {
     "name": "stdout",
     "output_type": "stream",
     "text": [
      "Finished Blast and Download\n",
      "Finished Blast and Download\n"
     ]
    },
    {
     "name": "stderr",
     "output_type": "stream",
     "text": [
      " 95%|██████████████████████████████████████▊  | 121/128 [40:23<02:20, 20.03s/it]"
     ]
    },
    {
     "name": "stdout",
     "output_type": "stream",
     "text": [
      "Finished Blast and Download\n"
     ]
    },
    {
     "name": "stderr",
     "output_type": "stream",
     "text": [
      " 95%|███████████████████████████████████████  | 122/128 [40:43<02:00, 20.03s/it]"
     ]
    },
    {
     "name": "stdout",
     "output_type": "stream",
     "text": [
      "Finished Blast and Download\n"
     ]
    },
    {
     "name": "stderr",
     "output_type": "stream",
     "text": [
      " 96%|███████████████████████████████████████▍ | 123/128 [41:03<01:40, 20.03s/it]"
     ]
    },
    {
     "name": "stdout",
     "output_type": "stream",
     "text": [
      "Finished Blast and Download\n"
     ]
    },
    {
     "name": "stderr",
     "output_type": "stream",
     "text": [
      " 97%|███████████████████████████████████████▋ | 124/128 [41:23<01:20, 20.03s/it]"
     ]
    },
    {
     "name": "stdout",
     "output_type": "stream",
     "text": [
      "Finished Blast and Download\n",
      "Finished Blast and Download\n"
     ]
    },
    {
     "name": "stderr",
     "output_type": "stream",
     "text": [
      " 98%|████████████████████████████████████████▎| 126/128 [42:03<00:40, 20.03s/it]"
     ]
    },
    {
     "name": "stdout",
     "output_type": "stream",
     "text": [
      "Finished Blast and Download\n"
     ]
    },
    {
     "name": "stderr",
     "output_type": "stream",
     "text": [
      " 99%|████████████████████████████████████████▋| 127/128 [42:23<00:20, 20.03s/it]Process Process-122:\n",
      "Traceback (most recent call last):\n",
      "  File \"/home/user/anaconda3/lib/python3.8/multiprocessing/process.py\", line 315, in _bootstrap\n",
      "    self.run()\n",
      "  File \"/home/user/anaconda3/lib/python3.8/multiprocessing/process.py\", line 108, in run\n",
      "    self._target(*self._args, **self._kwargs)\n",
      "  File \"/home/user/Projects/zymCTRL/blast.py\", line 34, in blast\n",
      "    driver.find_element(\"link text\", \"Text\").click()\n",
      "  File \"/home/user/anaconda3/lib/python3.8/site-packages/selenium/webdriver/remote/webdriver.py\", line 855, in find_element\n",
      "    return self.execute(Command.FIND_ELEMENT, {\n",
      "  File \"/home/user/anaconda3/lib/python3.8/site-packages/selenium/webdriver/remote/webdriver.py\", line 428, in execute\n",
      "    self.error_handler.check_response(response)\n",
      "  File \"/home/user/anaconda3/lib/python3.8/site-packages/selenium/webdriver/remote/errorhandler.py\", line 243, in check_response\n",
      "    raise exception_class(message, screen, stacktrace)\n",
      "selenium.common.exceptions.NoSuchElementException: Message: Unable to locate element: Text\n",
      "Stacktrace:\n",
      "RemoteError@chrome://remote/content/shared/RemoteError.sys.mjs:8:8\n",
      "WebDriverError@chrome://remote/content/shared/webdriver/Errors.sys.mjs:182:5\n",
      "NoSuchElementError@chrome://remote/content/shared/webdriver/Errors.sys.mjs:394:5\n",
      "element.find/</<@chrome://remote/content/marionette/element.sys.mjs:280:16\n",
      "\n"
     ]
    },
    {
     "name": "stdout",
     "output_type": "stream",
     "text": [
      "Finished Blast and Download\n"
     ]
    },
    {
     "name": "stderr",
     "output_type": "stream",
     "text": [
      "100%|█████████████████████████████████████████| 128/128 [42:43<00:00, 20.03s/it]\n"
     ]
    },
    {
     "name": "stdout",
     "output_type": "stream",
     "text": [
      "Finished Blast and Download\n",
      "Finished Blast and Download\n",
      "Finished Blast and Download\n",
      "Finished Blast and Download\n",
      "Finished Blast and Download\n",
      "Finished Blast and Download\n"
     ]
    },
    {
     "name": "stderr",
     "output_type": "stream",
     "text": [
      "Process Process-123:\n",
      "Traceback (most recent call last):\n",
      "  File \"/home/user/anaconda3/lib/python3.8/multiprocessing/process.py\", line 315, in _bootstrap\n",
      "    self.run()\n",
      "  File \"/home/user/anaconda3/lib/python3.8/multiprocessing/process.py\", line 108, in run\n",
      "    self._target(*self._args, **self._kwargs)\n",
      "  File \"/home/user/Projects/zymCTRL/blast.py\", line 34, in blast\n",
      "    driver.find_element(\"link text\", \"Text\").click()\n",
      "  File \"/home/user/anaconda3/lib/python3.8/site-packages/selenium/webdriver/remote/webdriver.py\", line 855, in find_element\n",
      "    return self.execute(Command.FIND_ELEMENT, {\n",
      "  File \"/home/user/anaconda3/lib/python3.8/site-packages/selenium/webdriver/remote/webdriver.py\", line 428, in execute\n",
      "    self.error_handler.check_response(response)\n",
      "  File \"/home/user/anaconda3/lib/python3.8/site-packages/selenium/webdriver/remote/errorhandler.py\", line 243, in check_response\n",
      "    raise exception_class(message, screen, stacktrace)\n",
      "selenium.common.exceptions.NoSuchElementException: Message: Unable to locate element: Text\n",
      "Stacktrace:\n",
      "RemoteError@chrome://remote/content/shared/RemoteError.sys.mjs:8:8\n",
      "WebDriverError@chrome://remote/content/shared/webdriver/Errors.sys.mjs:182:5\n",
      "NoSuchElementError@chrome://remote/content/shared/webdriver/Errors.sys.mjs:394:5\n",
      "element.find/</<@chrome://remote/content/marionette/element.sys.mjs:280:16\n",
      "\n"
     ]
    },
    {
     "name": "stdout",
     "output_type": "stream",
     "text": [
      "Finished Blast and Download\n",
      "Finished Blast and Download\n",
      "Finished Blast and Download\n",
      "Finished Blast and Download\n",
      "Finished Blast and Download\n",
      "Finished Blast and Download\n",
      "Finished Blast and Download\n",
      "Finished Blast and Download\n",
      "Finished Blast and Download\n",
      "Finished Blast and Download\n",
      "Finished Blast and Download\n",
      "Finished Blast and Download\n",
      "Finished Blast and Download\n",
      "Finished Blast and Download\n",
      "Finished Blast and Download\n",
      "Finished Blast and Download\n",
      "Finished Blast and Download\n",
      "Finished Blast and Download\n",
      "Finished Blast and Download\n",
      "Finished Blast and Download\n",
      "Finished Blast and Download\n",
      "Finished Blast and Download\n"
     ]
    },
    {
     "name": "stderr",
     "output_type": "stream",
     "text": [
      "Process Process-80:\n",
      "Traceback (most recent call last):\n",
      "  File \"/home/user/anaconda3/lib/python3.8/multiprocessing/process.py\", line 315, in _bootstrap\n",
      "    self.run()\n",
      "  File \"/home/user/anaconda3/lib/python3.8/multiprocessing/process.py\", line 108, in run\n",
      "    self._target(*self._args, **self._kwargs)\n",
      "  File \"/home/user/Projects/zymCTRL/blast.py\", line 32, in blast\n",
      "    item = WebDriverWait(driver, 10000, 30).until(EC.presence_of_element_located((By.ID, 'ulDnldAl'))).click()\n",
      "  File \"/home/user/anaconda3/lib/python3.8/site-packages/selenium/webdriver/support/wait.py\", line 81, in until\n",
      "    value = method(self._driver)\n",
      "  File \"/home/user/anaconda3/lib/python3.8/site-packages/selenium/webdriver/support/expected_conditions.py\", line 64, in _predicate\n",
      "    return driver.find_element(*locator)\n",
      "  File \"/home/user/anaconda3/lib/python3.8/site-packages/selenium/webdriver/remote/webdriver.py\", line 855, in find_element\n",
      "    return self.execute(Command.FIND_ELEMENT, {\n",
      "  File \"/home/user/anaconda3/lib/python3.8/site-packages/selenium/webdriver/remote/webdriver.py\", line 428, in execute\n",
      "    self.error_handler.check_response(response)\n",
      "  File \"/home/user/anaconda3/lib/python3.8/site-packages/selenium/webdriver/remote/errorhandler.py\", line 243, in check_response\n",
      "    raise exception_class(message, screen, stacktrace)\n",
      "selenium.common.exceptions.WebDriverException: Message: Failed to decode response from marionette\n",
      "\n"
     ]
    }
   ],
   "source": [
    "processes = {}\n",
    "for i in tqdm(range(splits)):\n",
    "    time.sleep(20)\n",
    "    processes[f'process{i}'] = multiprocessing.Process(target=blast.blast, args=(splited_fasta[i],))\n",
    "    processes[f'process{i}'].start()"
   ]
  },
  {
   "cell_type": "code",
   "execution_count": null,
   "id": "5e8a85c4-8378-49a5-8240-0881e02c033e",
   "metadata": {},
   "outputs": [],
   "source": [
    "print(f\"Progress: {round((len(open('0_out_generated.fasta','r').readlines())/len(splitted_ls[0]))/2,2)*100}%\")"
   ]
  },
  {
   "cell_type": "code",
   "execution_count": 14,
   "id": "57a9b4e6-a6d3-4d5d-b911-4e9f07187be9",
   "metadata": {},
   "outputs": [],
   "source": [
    "files = [file for file in glob.glob(\"/*-Alignment.txt\")]"
   ]
  },
  {
   "cell_type": "code",
   "execution_count": 15,
   "id": "b0fbcb77-7a1d-4697-9dfc-5ae2fd2eb268",
   "metadata": {},
   "outputs": [],
   "source": [
    "header = [\"Description\", \t\"Name\", \t\"Name\", \t\"Taxid\", \t\"Score\", \t\"Score\", \t\"cover\", \t\"Value\", \t\"Ident\", \t\"Len\", \t\"Accession\"]\n",
    "blast_res = pd.DataFrame(columns=header)"
   ]
  },
  {
   "cell_type": "code",
   "execution_count": 25,
   "id": "2b847561-189d-48e0-a899-a2dd2e77ce47",
   "metadata": {},
   "outputs": [],
   "source": [
    "# run only if not everything worked out and then to the cell defining the rest variable\n",
    "done = []\n",
    "for file in files:\n",
    "    data = open(file,'r').readlines()\n",
    "    for i in data:\n",
    "        if i.startswith('Query #'):\n",
    "            done.append(i.split('(')[1].split('Query')[0][:-1])"
   ]
  },
  {
   "cell_type": "code",
   "execution_count": 17,
   "id": "a26d6ef1-d5b1-4889-ac58-0fd3c0bdfafd",
   "metadata": {},
   "outputs": [],
   "source": [
    "for file in files:\n",
    "    with open(f'{file}','r') as fn:\n",
    "        data = fn.readlines()\n",
    "        res = [idx  for idx,i in enumerate(data) if i.startswith('Sequences producing significant alignments:')]\n",
    "        res = [data[i+3].rsplit(None,10) for i in res]\n",
    "        nothing = [idx  for idx,i in enumerate(data) if i.startswith('No significant similarity found')]\n",
    "    for i in res:\n",
    "        blast_res.loc[len(blast_res)] = i\n",
    "    for i in nothing:\n",
    "        if nothing:\n",
    "            blast_res.loc[len(blast_res)] = list([data[i-2]]+['0.0' for i in range(len(list(blast_res.columns))-1)])"
   ]
  },
  {
   "cell_type": "code",
   "execution_count": 37,
   "id": "cfb899b4-b93d-4fc2-b2bc-92cea6734998",
   "metadata": {
    "tags": []
   },
   "outputs": [],
   "source": [
    "blast_res[\"Name\"] = [i.replace('\\n','').replace('>','') for i in list(new_fasta.keys())]"
   ]
  },
  {
   "cell_type": "code",
   "execution_count": 39,
   "id": "8ee0a64d-1f44-44f2-b285-2a145a73d0e3",
   "metadata": {},
   "outputs": [],
   "source": [
    "blast_res.to_csv('/home/user/Desktop/carboanhydrases_best_hit.csv')"
   ]
  },
  {
   "cell_type": "code",
   "execution_count": 181,
   "id": "aa72d75c-c6b8-4af9-816c-518df9cef088",
   "metadata": {},
   "outputs": [
    {
     "name": "stdout",
     "output_type": "stream",
     "text": [
      "Average identity: 35.65%\n"
     ]
    }
   ],
   "source": [
    "print(f\"Average identity: {round(sum(list(map(float,list(blast_res.Ident))))/len(list(blast_res.Ident)),2)}%\")"
   ]
  },
  {
   "cell_type": "code",
   "execution_count": 182,
   "id": "fb27e408-a788-49b7-8b23-4036cedf2ad0",
   "metadata": {},
   "outputs": [
    {
     "name": "stdout",
     "output_type": "stream",
     "text": [
      "Average coverage: 52.8%\n"
     ]
    }
   ],
   "source": [
    "print(f\"Average coverage: {round(sum(list(blast_res.cover.str.rstrip('%').astype('float').dropna()))/len(list(blast_res.cover)),2)}%\")"
   ]
  },
  {
   "cell_type": "code",
   "execution_count": 183,
   "id": "2884c8e5-78f3-420e-8e52-4237be064e29",
   "metadata": {},
   "outputs": [
    {
     "name": "stdout",
     "output_type": "stream",
     "text": [
      "Median identity: 35.48%\n"
     ]
    }
   ],
   "source": [
    "print(f\"Median identity: {round(statistics.median(list(map(float,list(blast_res.Ident)))),2)}%\")"
   ]
  },
  {
   "cell_type": "code",
   "execution_count": 184,
   "id": "1c0c2412-2634-4974-b320-ce2e0447b2f6",
   "metadata": {},
   "outputs": [
    {
     "name": "stdout",
     "output_type": "stream",
     "text": [
      "Median coverage: 66.0%\n"
     ]
    }
   ],
   "source": [
    "print(f\"Median coverage: {round(statistics.median(list(blast_res.cover.str.rstrip('%').astype('float').dropna())),2)}%\")"
   ]
  },
  {
   "cell_type": "code",
   "execution_count": 52,
   "id": "b48cd7b0-25c5-4b1c-80ee-1ff6d61dc811",
   "metadata": {},
   "outputs": [],
   "source": [
    "blast_res.to_csv(\"./YOUR_PATH.csv\")"
   ]
  }
 ],
 "metadata": {
  "kernelspec": {
   "display_name": "Python 3 (ipykernel)",
   "language": "python",
   "name": "python3"
  },
  "language_info": {
   "codemirror_mode": {
    "name": "ipython",
    "version": 3
   },
   "file_extension": ".py",
   "mimetype": "text/x-python",
   "name": "python",
   "nbconvert_exporter": "python",
   "pygments_lexer": "ipython3",
   "version": "3.10.6"
  }
 },
 "nbformat": 4,
 "nbformat_minor": 5
}
